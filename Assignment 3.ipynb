{
 "cells": [
  {
   "cell_type": "code",
   "execution_count": 15,
   "metadata": {},
   "outputs": [
    {
     "name": "stdout",
     "output_type": "stream",
     "text": [
      "Enter first number: 9\n",
      "Please select operation -\n",
      " 1. Add\n",
      " 2. Subtract\n",
      " 3. Multiply\n",
      " 4. Divide\n",
      " 5. Power\n",
      "\n",
      "Select operations form +, -, *, /, ^ : *\n",
      "Enter second number: 2\n",
      "Your Answer:  9 * 2 = 18\n"
     ]
    }
   ],
   "source": [
    "#1. Make a calculator using Python with addition, subtraction, multiplication, division and power.   \n",
    "def addition(a,b):\n",
    "    return a + b\n",
    "def subtraction(a,b): \n",
    "    return a - b\n",
    "def multiplication(a,b): \n",
    "    return a * b\n",
    "def division(a,b): \n",
    "    return a / b\n",
    "def power(a,b):\n",
    "    return a**b\n",
    "\n",
    "x = int(input(\"Enter first number: \")) \n",
    "print(\"Please select operation -\\n 1. Add\\n 2. Subtract\\n 3. Multiply\\n 4. Divide\\n 5. Power\\n\") \n",
    "op = input(\"Select operations form +, -, *, /, ^ : \")\n",
    "y = int(input(\"Enter second number: \"))\n",
    "\n",
    "if op == '+':\n",
    "    print(\"Your Answer: \", x, \"+\", y, \"=\", addition(x,y))\n",
    "  \n",
    "elif op == '-':\n",
    "    print(\"Your Answer: \", x, \"-\", y, \"=\", subtraction(x,y))\n",
    "  \n",
    "elif op == '*':\n",
    "    print(\"Your Answer: \", x, \"*\", y, \"=\", multiplication(x,y))\n",
    "  \n",
    "elif op == '/':\n",
    "    print(\"Your Answer: \", x, \"/\", y, \"=\", division(x,y))\n",
    "elif op == '^':\n",
    "    print(\"Your Answer: \", x, \"^\", y, \"=\", power(x,y))\n",
    "else:\n",
    "    print(\"Invalid input\")"
   ]
  },
  {
   "cell_type": "code",
   "execution_count": 75,
   "metadata": {},
   "outputs": [
    {
     "name": "stdout",
     "output_type": "stream",
     "text": [
      "yes, numeric value is present\n"
     ]
    }
   ],
   "source": [
    "#2. Write a program to check if there is any numeric value in list using for loop\n",
    "a=['a','b',1,2,3,'c','d']\n",
    "for i in range(len(a)):\n",
    "    if type(a[i])==int:\n",
    "        print(\"yes, numeric value is present\")\n",
    "        break"
   ]
  },
  {
   "cell_type": "code",
   "execution_count": 41,
   "metadata": {},
   "outputs": [
    {
     "name": "stdout",
     "output_type": "stream",
     "text": [
      "{'Name': 'Govinda', 'age': '20', 'Section': 'A'}\n",
      "{'Name': 'Govinda', 'age': '20', 'Section': 'A', 'Email': 'govinda123@xyz.com'}\n"
     ]
    }
   ],
   "source": [
    "#3. Write a Python script to add a key to a dictionary\n",
    "Student = {\"Name\":\"Govinda\",\"age\":\"20\",\"Section\":\"A\"}\n",
    "print(Student)\n",
    "Student.update({\"Email\":\"govinda123@xyz.com\"})\n",
    "print(Student)"
   ]
  },
  {
   "cell_type": "code",
   "execution_count": 44,
   "metadata": {},
   "outputs": [
    {
     "name": "stdout",
     "output_type": "stream",
     "text": [
      "{'1': 1, '2': 2, '3': 3, '4': 4, '5': 5}\n",
      "Sum of all the numeric values in the dictionary is :  15\n"
     ]
    }
   ],
   "source": [
    "#4. Write a Python program to sum all the numeric items in a dictionary.\n",
    "x = {'1':1,'2':2,'3':3,'3':3,'4':4,'5':5}\n",
    "print(x)\n",
    "sum_of_x = sum(x.values())\n",
    "print(\"Sum of all the numeric values in the dictionary is : \",sum_of_x)"
   ]
  },
  {
   "cell_type": "code",
   "execution_count": 5,
   "metadata": {},
   "outputs": [
    {
     "name": "stdout",
     "output_type": "stream",
     "text": [
      "[3, 6, 9]\n"
     ]
    }
   ],
   "source": [
    "#5. Write a program to identify duplicate values from list\n",
    "def Repeat(x): \n",
    "    _size = len(x) \n",
    "    repeated = [] \n",
    "    for i in range(_size):\n",
    "        k = i + 1\n",
    "        for j in range(k, _size): \n",
    "            if x[i] == x[j] and x[i] not in repeated: \n",
    "                repeated.append(x[i]) \n",
    "    return repeated \n",
    "list1 = [1,2,3,3,4,5,3,6,6,7,6,8,9,9]\n",
    "print(Repeat(list1))"
   ]
  },
  {
   "cell_type": "code",
   "execution_count": 49,
   "metadata": {},
   "outputs": [
    {
     "name": "stdout",
     "output_type": "stream",
     "text": [
      "9\n",
      "yes, this key already exist in dictionary\n"
     ]
    }
   ],
   "source": [
    "#6. Write a Python script to check if a given key already exists in a dictionary\n",
    "d = {3: 12, 6: 15, 9: 18, 12: 21, 15: 24, 18: 108}\n",
    "x = int(input())\n",
    "if x in d:\n",
    "    print(\"yes, this key already exist in dictionary\")\n",
    "else:\n",
    "    print(\"No, it don't exist\")"
   ]
  },
  {
   "cell_type": "code",
   "execution_count": null,
   "metadata": {},
   "outputs": [],
   "source": []
  },
  {
   "cell_type": "code",
   "execution_count": null,
   "metadata": {},
   "outputs": [],
   "source": []
  },
  {
   "cell_type": "code",
   "execution_count": null,
   "metadata": {},
   "outputs": [],
   "source": []
  },
  {
   "cell_type": "code",
   "execution_count": null,
   "metadata": {},
   "outputs": [],
   "source": []
  }
 ],
 "metadata": {
  "kernelspec": {
   "display_name": "Python 3",
   "language": "python",
   "name": "python3"
  },
  "language_info": {
   "codemirror_mode": {
    "name": "ipython",
    "version": 3
   },
   "file_extension": ".py",
   "mimetype": "text/x-python",
   "name": "python",
   "nbconvert_exporter": "python",
   "pygments_lexer": "ipython3",
   "version": "3.7.1"
  }
 },
 "nbformat": 4,
 "nbformat_minor": 2
}
