{
 "cells": [
  {
   "cell_type": "markdown",
   "metadata": {},
   "source": [
    "# ASSIGNMENT-2"
   ]
  },
  {
   "cell_type": "markdown",
   "metadata": {},
   "source": [
    "# Ques 1"
   ]
  },
  {
   "cell_type": "code",
   "execution_count": 1,
   "metadata": {},
   "outputs": [
    {
     "name": "stdout",
     "output_type": "stream",
     "text": [
      "enter marks for 5 different subjects\n",
      "Enter Science marks 60\n",
      "Enter Maths marks 70\n",
      "Enter Urdu marks 65\n",
      "Enter English marks 68\n",
      "Enter Computer Science marks 81\n",
      "Your Marksheet\n",
      "Science:  60\n",
      "Maths:  70\n",
      "Urdu:  65\n",
      "English:  68\n",
      "Computer Science:  81\n",
      "Total:  344\n"
     ]
    }
   ],
   "source": [
    "print(\"enter marks for 5 different subjects\")\n",
    "marks1 = int(input(\"Enter Science marks \"))\n",
    "marks2 = int(input(\"Enter Maths marks \"))\n",
    "marks3 = int(input(\"Enter Urdu marks \"))\n",
    "marks4 = int(input(\"Enter English marks \"))\n",
    "marks5 = int(input(\"Enter Computer Science marks \"))\n",
    " \n",
    "total = marks1 + marks2 + marks3 + marks4 + marks5\n",
    "\n",
    "print(\"Your Marksheet\")\n",
    "print(\"Science: \", marks1)\n",
    "print(\"Maths: \", marks2)\n",
    "print(\"Urdu: \", marks3)\n",
    "print(\"English: \", marks4)\n",
    "print(\"Computer Science: \", marks5)\n",
    "\n",
    "print(\"Total: \", total)"
   ]
  },
  {
   "cell_type": "markdown",
   "metadata": {},
   "source": [
    "# Ques 2"
   ]
  },
  {
   "cell_type": "code",
   "execution_count": 1,
   "metadata": {},
   "outputs": [
    {
     "name": "stdout",
     "output_type": "stream",
     "text": [
      "Enter a number: 5\n",
      "odd number\n"
     ]
    }
   ],
   "source": [
    "n = int(input(\"Enter a number: \"))\n",
    "if n%2 == 0:\n",
    "    print(\"even number\")\n",
    "else:\n",
    "    print(\"odd number\")"
   ]
  },
  {
   "cell_type": "markdown",
   "metadata": {},
   "source": [
    "# Ques 3"
   ]
  },
  {
   "cell_type": "code",
   "execution_count": 2,
   "metadata": {},
   "outputs": [
    {
     "name": "stdout",
     "output_type": "stream",
     "text": [
      "The length of the list is:  5\n"
     ]
    }
   ],
   "source": [
    "sports = [\"cricket\", \"Football\", \"Baseball\", \"Hockey\", \"Rugby\"]\n",
    "\n",
    "print(\"The length of the list is: \" , len(sports))"
   ]
  },
  {
   "cell_type": "markdown",
   "metadata": {},
   "source": [
    "# Ques 4"
   ]
  },
  {
   "cell_type": "code",
   "execution_count": 3,
   "metadata": {},
   "outputs": [
    {
     "name": "stdout",
     "output_type": "stream",
     "text": [
      "26\n"
     ]
    }
   ],
   "source": [
    "numeric_list = [1, 4, 6, 15]\n",
    "\n",
    "print(sum(numeric_list))"
   ]
  },
  {
   "cell_type": "markdown",
   "metadata": {},
   "source": [
    "# Ques 5"
   ]
  },
  {
   "cell_type": "code",
   "execution_count": 4,
   "metadata": {},
   "outputs": [
    {
     "name": "stdout",
     "output_type": "stream",
     "text": [
      "20\n"
     ]
    }
   ],
   "source": [
    "numeric_list = [1, 4, 6, 20, 15]\n",
    "\n",
    "print(max(numeric_list))"
   ]
  },
  {
   "cell_type": "markdown",
   "metadata": {},
   "source": [
    "# Ques 6 "
   ]
  },
  {
   "cell_type": "code",
   "execution_count": 5,
   "metadata": {},
   "outputs": [
    {
     "name": "stdout",
     "output_type": "stream",
     "text": [
      "1\n",
      "1\n",
      "2\n",
      "3\n"
     ]
    }
   ],
   "source": [
    "a = [1, 1, 2, 3, 5, 8, 13, 21, 34, 55, 89]\n",
    "\n",
    "for i in range(10):\n",
    "    if(a[i] < 5):\n",
    "        print(a[i])\n"
   ]
  },
  {
   "cell_type": "code",
   "execution_count": null,
   "metadata": {},
   "outputs": [],
   "source": []
  }
 ],
 "metadata": {
  "kernelspec": {
   "display_name": "Python 3",
   "language": "python",
   "name": "python3"
  },
  "language_info": {
   "codemirror_mode": {
    "name": "ipython",
    "version": 3
   },
   "file_extension": ".py",
   "mimetype": "text/x-python",
   "name": "python",
   "nbconvert_exporter": "python",
   "pygments_lexer": "ipython3",
   "version": "3.7.1"
  }
 },
 "nbformat": 4,
 "nbformat_minor": 2
}
