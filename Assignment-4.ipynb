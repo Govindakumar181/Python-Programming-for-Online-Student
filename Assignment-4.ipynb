{
 "cells": [
  {
   "cell_type": "code",
   "execution_count": 1,
   "metadata": {},
   "outputs": [
    {
     "name": "stdout",
     "output_type": "stream",
     "text": [
      "first name : Bilal\n",
      "last name : Ali\n",
      "age : 20\n",
      "city : Karachi\n"
     ]
    }
   ],
   "source": [
    "known_person = {\n",
    "    \"first_name\" : \"Bilal\",\n",
    "    \"last_name\" : \"Ali\",\n",
    "    \"age\" : 20,\n",
    "    \"city\" : \"Karachi\",\n",
    "}\n",
    "print(\"first name : \" + known_person[\"first_name\"])\n",
    "print(\"last name : \" + known_person[\"last_name\"])\n",
    "print(\"age : \" + str(known_person[\"age\"]))\n",
    "print(\"city : \" + known_person[\"city\"])"
   ]
  },
  {
   "cell_type": "code",
   "execution_count": 2,
   "metadata": {},
   "outputs": [
    {
     "name": "stdout",
     "output_type": "stream",
     "text": [
      "{'first_name': 'Bilal', 'last_name': 'Ali', 'age': 20, 'city': 'Karachi', 'qualification': 'High Academic Level'}\n"
     ]
    }
   ],
   "source": [
    "known_person = {\n",
    "    \"first_name\" : \"Bilal\",\n",
    "    \"last_name\" : \"Ali\",\n",
    "    \"age\" : 20,\n",
    "    \"city\" : \"Karachi\",\n",
    "}\n",
    "known_person[\"qualification\"] = \"Matric\"\n",
    "known_person[\"qualification\"] = \"High Academic Level\"\n",
    "print(known_person)"
   ]
  },
  {
   "cell_type": "code",
   "execution_count": 3,
   "metadata": {},
   "outputs": [
    {
     "name": "stdout",
     "output_type": "stream",
     "text": [
      "{'first_name': 'Bilal', 'last_name': 'Ali', 'age': 20, 'city': 'Karachi'}\n"
     ]
    }
   ],
   "source": [
    "known_person = {\n",
    "    \"first_name\" : \"Bilal\",\n",
    "    \"last_name\" : \"Ali\",\n",
    "    \"age\" : 20,\n",
    "    \"city\" : \"Karachi\",\n",
    "}\n",
    "known_person[\"qualification\"] = \"Matric\"\n",
    "known_person[\"qualification\"] = \"High Academic Level\"\n",
    "del known_person[\"qualification\"]\n",
    "print(known_person)"
   ]
  },
  {
   "cell_type": "markdown",
   "metadata": {},
   "source": [
    "# Q2 "
   ]
  },
  {
   "cell_type": "code",
   "execution_count": 4,
   "metadata": {},
   "outputs": [
    {
     "name": "stdout",
     "output_type": "stream",
     "text": [
      "city name : Karachi \n",
      "country : Pakistan\n",
      "Population : 14.91 million\n",
      "Fact : karachi is the very first capital of the country, known as the City of Lights for ages.\n",
      "\n",
      "city name : Lahore \n",
      "country : Pakistan\n",
      "Population : 11.13 million\n",
      "Fact : Lahore is the country's second-most populous city after Karachi.\n",
      "\n",
      "city name : Tokyo \n",
      "country : Japan\n",
      "Population : 9.273 million\n",
      "Fact : Tokyo Skytree was announced as the tallest tower in the world in 2010.\n"
     ]
    }
   ],
   "source": [
    "cities = {\n",
    "    \"Karachi\" : {\n",
    "        \"country\" : \"Pakistan\",\n",
    "        \"Population\" : \"14.91 million\",\n",
    "        \"Fact\" : \"karachi is the very first capital of the country, known as the City of Lights for ages.\",\n",
    "    },\n",
    "    \n",
    "    \"Lahore\" : {\n",
    "        \"country\" : \"Pakistan\",\n",
    "        \"Population\" : \"11.13 million\",\n",
    "        \"Fact\" : \"Lahore is the country's second-most populous city after Karachi.\",\n",
    "    },\n",
    "    \n",
    "    \"Tokyo\" : {\n",
    "        \"country\" : \"Japan\",\n",
    "        \"Population\" : \"9.273 million\",\n",
    "        \"Fact\" : \"Tokyo Skytree was announced as the tallest tower in the world in 2010.\",\n",
    "    },\n",
    "}\n",
    "\n",
    "print(\"city name : Karachi \")\n",
    "print(\"country : \" + cities[\"Karachi\"][\"country\"])\n",
    "print(\"Population : \" + cities[\"Karachi\"][\"Population\"])\n",
    "print(\"Fact : \" + cities[\"Karachi\"][\"Fact\"])\n",
    "print()\n",
    "print(\"city name : Lahore \")\n",
    "print(\"country : \" + cities[\"Lahore\"][\"country\"])\n",
    "print(\"Population : \" + cities[\"Lahore\"][\"Population\"])\n",
    "print(\"Fact : \" + cities[\"Lahore\"][\"Fact\"])\n",
    "print()\n",
    "print(\"city name : Tokyo \")\n",
    "print(\"country : \" + cities[\"Tokyo\"][\"country\"])\n",
    "print(\"Population : \" + cities[\"Tokyo\"][\"Population\"])\n",
    "print(\"Fact : \" + cities[\"Tokyo\"][\"Fact\"])\n"
   ]
  },
  {
   "cell_type": "markdown",
   "metadata": {},
   "source": [
    "# Q3"
   ]
  },
  {
   "cell_type": "code",
   "execution_count": null,
   "metadata": {},
   "outputs": [
    {
     "name": "stdout",
     "output_type": "stream",
     "text": [
      "Movie theater charges different ticket prices depending on a person’s age\n",
      "Enter your age: 18\n",
      "Your ticket costs $15\n",
      "Enter your age: 21\n",
      "Your ticket costs $15\n",
      "Enter your age: 27\n",
      "Your ticket costs $15\n"
     ]
    }
   ],
   "source": [
    "print(\"Movie theater charges different ticket prices depending on a person’s age\")\n",
    "\n",
    "for i in range(5):\n",
    "    age = int(input(\"Enter your age: \"))\n",
    "    \n",
    "    if age < 3:\n",
    "        print(\"Your ticket is free\")\n",
    "        \n",
    "    elif age > 3 and age < 12:\n",
    "        print(\"Your ticket costs $10\")\n",
    "        \n",
    "    else:\n",
    "        print(\"Your ticket costs $15\")\n",
    "    "
   ]
  },
  {
   "cell_type": "markdown",
   "metadata": {},
   "source": [
    "# Q4"
   ]
  },
  {
   "cell_type": "code",
   "execution_count": null,
   "metadata": {},
   "outputs": [],
   "source": [
    "def favorite_book(title):\n",
    "    print(\"One of my favorite books is \" + title + \".\")\n",
    "\n",
    "\n",
    "favorite_book('Alice in Wonderland')"
   ]
  },
  {
   "cell_type": "markdown",
   "metadata": {},
   "source": [
    "# Q5"
   ]
  },
  {
   "cell_type": "code",
   "execution_count": null,
   "metadata": {},
   "outputs": [],
   "source": [
    "import random\n",
    "guessesTaken = 0\n",
    "print('Hello! What is your name?')\n",
    "myName = input()\n",
    "number = random.randint(1, 20)\n",
    "print('Well, ' + myName + ', I am thinking of a number between 1 and 20.')\n",
    "while guessesTaken < 6:\n",
    "    print('Take a guess.') # There are four spaces in front of print.\n",
    "    guess = input()\n",
    "    guess = int(guess)\n",
    "    guessesTaken = guessesTaken + 1\n",
    "    if guess < number:\n",
    "        print('Your guess is too low.') # There are eight spaces in front of print.\n",
    "        if guess > number:\n",
    "            print('Your guess is too high.')\n",
    "            if guess == number:\n",
    "                break\n",
    "                if guess == number:\n",
    "                    guessesTaken = str(guessesTaken)\n",
    "                    print('Good job, ' + myName + '! You guessed my number in ' + guessesTaken + ' guesses!')\n",
    "                    if guess != number:\n",
    "                        number = str(number)\n",
    "                        print('Nope. The number I was thinking of was ' + number)"
   ]
  },
  {
   "cell_type": "code",
   "execution_count": null,
   "metadata": {},
   "outputs": [],
   "source": []
  }
 ],
 "metadata": {
  "kernelspec": {
   "display_name": "Python 3",
   "language": "python",
   "name": "python3"
  },
  "language_info": {
   "codemirror_mode": {
    "name": "ipython",
    "version": 3
   },
   "file_extension": ".py",
   "mimetype": "text/x-python",
   "name": "python",
   "nbconvert_exporter": "python",
   "pygments_lexer": "ipython3",
   "version": "3.7.1"
  }
 },
 "nbformat": 4,
 "nbformat_minor": 2
}
